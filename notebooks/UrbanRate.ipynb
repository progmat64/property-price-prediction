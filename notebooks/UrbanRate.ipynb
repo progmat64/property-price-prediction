{
  "cells": [
    {
      "cell_type": "markdown",
      "metadata": {
        "id": "L2qrYJysgs0N"
      },
      "source": [
        "## Импорт библиотек и загрузка данных"
      ]
    },
    {
      "cell_type": "code",
      "execution_count": null,
      "metadata": {
        "id": "dbNeJW9tvBns"
      },
      "outputs": [],
      "source": [
        "# Установка библиотек\n",
        "\n",
        "!pip install streamlit -q\n"
      ]
    },
    {
      "cell_type": "code",
      "source": [
        "!pip install streamlit-folium -q"
      ],
      "metadata": {
        "id": "TFiGh7lCakm4"
      },
      "execution_count": null,
      "outputs": []
    },
    {
      "cell_type": "code",
      "execution_count": null,
      "metadata": {
        "id": "Md_iqJ1QvFIY"
      },
      "outputs": [],
      "source": [
        "# Импорт библиотек\n",
        "from math import sqrt\n",
        "from streamlit_folium import st_folium\n",
        "\n",
        "import joblib\n",
        "import matplotlib.pyplot as plt\n",
        "import missingno as msno\n",
        "import numpy as np\n",
        "import pandas as pd\n",
        "import seaborn as sns\n",
        "import streamlit as st\n",
        "\n",
        "from joblib import dump\n",
        "from sklearn.ensemble import RandomForestRegressor\n",
        "from sklearn.linear_model import LinearRegression\n",
        "from sklearn.metrics import mean_squared_error, r2_score\n",
        "from sklearn.model_selection import train_test_split\n",
        "from sklearn.preprocessing import LabelEncoder"
      ]
    },
    {
      "cell_type": "markdown",
      "metadata": {
        "id": "As7_rkADvyT9"
      },
      "source": [
        "Скачиваем необходимые данные с Google Drive"
      ]
    },
    {
      "cell_type": "code",
      "execution_count": null,
      "metadata": {
        "id": "lM02yWdMuKDC"
      },
      "outputs": [],
      "source": [
        "!wget --no-check-certificate 'https://drive.google.com/uc?export=download&id=12UNNxWzKJ0RmQxaQp3acMHvXl7pKWv-N' -O main_data.csv -q"
      ]
    },
    {
      "cell_type": "code",
      "execution_count": null,
      "metadata": {
        "id": "xaMJXBDAsD6w"
      },
      "outputs": [],
      "source": [
        "!wget --no-check-certificate 'https://drive.google.com/uc?export=download&id=153FC-BlQVJoV_uMr1RPxaxt710TyD-qi' -O app.py -q"
      ]
    },
    {
      "cell_type": "code",
      "source": [
        "!mkdir pages"
      ],
      "metadata": {
        "id": "coiAPDGUVAB6"
      },
      "execution_count": null,
      "outputs": []
    },
    {
      "cell_type": "code",
      "source": [
        "!wget --no-check-certificate 'https://drive.google.com/uc?export=download&id=15-fvjGDq7nXrvkt6LMwTlU1QJ3jb0FrG' -O cpages/Покупка.py -q"
      ],
      "metadata": {
        "id": "5-a525gPTWs7"
      },
      "execution_count": null,
      "outputs": []
    },
    {
      "cell_type": "code",
      "source": [
        "!wget --no-check-certificate 'https://drive.google.com/uc?export=download&id=1-BnRXpEd2l7yLaSnbOGOZSir-l1nmn9f' -O content/pages/Продажа.py -q"
      ],
      "metadata": {
        "id": "zfTTduAMTY_H"
      },
      "execution_count": null,
      "outputs": []
    },
    {
      "cell_type": "code",
      "execution_count": null,
      "metadata": {
        "id": "IAW9yzs1vqLM"
      },
      "outputs": [],
      "source": [
        "# Загрузка данных\n",
        "\n",
        "df = pd.read_csv('main_data.csv')\n",
        "\n",
        "df.head()"
      ]
    },
    {
      "cell_type": "markdown",
      "metadata": {
        "id": "Oz0DIozcv_W5"
      },
      "source": [
        "## Анализ данных"
      ]
    },
    {
      "cell_type": "code",
      "execution_count": null,
      "metadata": {
        "id": "rDWrNc9IwGZQ"
      },
      "outputs": [],
      "source": [
        "# Размер датафрейма\n",
        "\n",
        "df.shape"
      ]
    },
    {
      "cell_type": "code",
      "execution_count": null,
      "metadata": {
        "id": "MizkcAxbwJif"
      },
      "outputs": [],
      "source": [
        "df.info()"
      ]
    },
    {
      "cell_type": "code",
      "execution_count": null,
      "metadata": {
        "id": "Gh1vzzq9wR_1"
      },
      "outputs": [],
      "source": [
        "# Явные дубликаты\n",
        "\n",
        "df.duplicated().sum()"
      ]
    },
    {
      "cell_type": "code",
      "execution_count": null,
      "metadata": {
        "id": "E7coxqZgxYA8"
      },
      "outputs": [],
      "source": [
        "# Количество пропущенных значений\n",
        "\n",
        "sorted(df.isna().sum().items(), key=lambda x: x[1])"
      ]
    },
    {
      "cell_type": "code",
      "execution_count": null,
      "metadata": {
        "id": "Q10LJikQOgrX"
      },
      "outputs": [],
      "source": [
        "# Изучим целевую переменную\n",
        "\n",
        "df.boxplot('price');"
      ]
    },
    {
      "cell_type": "code",
      "execution_count": null,
      "metadata": {
        "id": "jWibSidVOiiz"
      },
      "outputs": [],
      "source": [
        "# Обрежем выбросы - оставим только те значения, что попадают в квантиль 0.90\n",
        "\n",
        "df = df[df.price < df.price.quantile(q=0.90)]\n",
        "df.shape"
      ]
    },
    {
      "cell_type": "code",
      "execution_count": null,
      "metadata": {
        "id": "WHM4U1WjxvET"
      },
      "outputs": [],
      "source": [
        "msno.matrix(df)\n",
        "plt.show()"
      ]
    },
    {
      "cell_type": "code",
      "execution_count": null,
      "metadata": {
        "id": "h9rNqDXH0K2Q"
      },
      "outputs": [],
      "source": [
        "# Вычисление корреляционной матрицы\n",
        "\n",
        "correlation_matrix = df.corr()\n",
        "\n",
        "plt.figure(figsize=(10, 8))\n",
        "sns.heatmap(correlation_matrix, cmap='viridis', vmin=-1, vmax=1, center=0, annot=True, fmt=\".2f\")\n",
        "plt.show()"
      ]
    },
    {
      "cell_type": "code",
      "execution_count": null,
      "metadata": {
        "id": "_3XB4glp1--x"
      },
      "outputs": [],
      "source": [
        "# Создание столбца \"construction_year\" из \"build_date\" или \"complitation_year\" и удаление старых столбцов\n",
        "\n",
        "df['construction_year'] = df['build_date'].combine_first(df['complitation_year'])\n",
        "df = df.drop(['build_date', 'complitation_year'], axis=1)"
      ]
    },
    {
      "cell_type": "code",
      "execution_count": null,
      "metadata": {
        "id": "0pu0C2qQCzeY"
      },
      "outputs": [],
      "source": [
        "# Заполнение пропущенных значений в столбце 'isСomplete' на основе значений в столбце 'construction_year'\n",
        "\n",
        "df['isСomplete'] = df.apply(lambda row: 0 if pd.isnull(row['isСomplete']) and row['construction_year'] > 2024 else\n",
        "                                    1 if pd.isnull(row['isСomplete']) and row['construction_year'] < 2024 else\n",
        "                                    row['isСomplete'], axis=1)"
      ]
    },
    {
      "cell_type": "code",
      "execution_count": null,
      "metadata": {
        "id": "L-vdkLLH9fDr"
      },
      "outputs": [],
      "source": [
        "print(\"Nan: \", df['isСomplete'].isnull().sum())\n",
        "print(\"Nan: \", df['construction_year'].isnull().sum())"
      ]
    },
    {
      "cell_type": "markdown",
      "metadata": {
        "id": "1AXZtZVOPUuA"
      },
      "source": [
        "### Жилая площадь и количество комнат"
      ]
    },
    {
      "cell_type": "code",
      "execution_count": null,
      "metadata": {
        "id": "CRwphvAYK8S3"
      },
      "outputs": [],
      "source": [
        "df = df.drop(['kitchen_area', 'living_area'], axis=1)"
      ]
    },
    {
      "cell_type": "code",
      "execution_count": null,
      "metadata": {
        "id": "24o0hYqJNrPS"
      },
      "outputs": [],
      "source": [
        "# Рассчитываем среднюю площадь для каждого количества комнат\n",
        "\n",
        "average_areas = {}\n",
        "for i in range(1, 11):\n",
        "    total_area_sum = df[df['rooms_count'] == i]['total_area'].sum()\n",
        "    count = df[df['rooms_count'] == i]['total_area'].count()\n",
        "    if count > 0:\n",
        "        average_areas[i] = total_area_sum / count\n",
        "\n",
        "print(\"Средняя площадь для квартир с разным количеством комнат:\")\n",
        "for key, value in average_areas.items():\n",
        "    print(f\"{key} комнатная квартира: {value:.2f} кв.м\")"
      ]
    },
    {
      "cell_type": "code",
      "execution_count": null,
      "metadata": {
        "id": "zT9bQKosOIuf"
      },
      "outputs": [],
      "source": [
        "# Заполняем пропуски в количестве комнат исходя из средней площади\n",
        "\n",
        "for index, row in df.iterrows():\n",
        "    if pd.isnull(row['rooms_count']):\n",
        "        min_diff = float('inf')\n",
        "        for key, value in average_areas.items():\n",
        "            if abs(row['total_area'] - value) < min_diff:\n",
        "                min_diff = abs(row['total_area'] - value)\n",
        "                df.at[index, 'rooms_count'] = key"
      ]
    },
    {
      "cell_type": "code",
      "execution_count": null,
      "metadata": {
        "id": "rFAdLpaYQPdW"
      },
      "outputs": [],
      "source": [
        "df = df.drop(['parking', 'decoration', 'balcony'], axis=1)"
      ]
    },
    {
      "cell_type": "code",
      "execution_count": null,
      "metadata": {
        "id": "aHrKBgoTQ00X"
      },
      "outputs": [],
      "source": [
        "df = df.drop(['passenger_elevator', 'cargo_elevator', 'address', 'metro', 'metro_distance', 'metro_transport', 'house_material',  'is_apartments'], axis=1)"
      ]
    },
    {
      "cell_type": "code",
      "execution_count": null,
      "metadata": {
        "id": "cZ8LvmcbVZQc"
      },
      "outputs": [],
      "source": [
        "df = df.dropna(subset=['district'])"
      ]
    },
    {
      "cell_type": "code",
      "execution_count": null,
      "metadata": {
        "id": "PPcOccSHqVGS"
      },
      "outputs": [],
      "source": [
        "df = df.dropna(subset=['isСomplete'])"
      ]
    },
    {
      "cell_type": "code",
      "execution_count": null,
      "metadata": {
        "id": "Vbtrie0aVkCN"
      },
      "outputs": [],
      "source": [
        "msno.matrix(df)\n",
        "plt.show()"
      ]
    },
    {
      "cell_type": "code",
      "execution_count": null,
      "metadata": {
        "id": "ng-SbuKbjJ6G"
      },
      "outputs": [],
      "source": [
        "df.hist(figsize=(15,12))"
      ]
    },
    {
      "cell_type": "code",
      "execution_count": null,
      "metadata": {
        "id": "-UzQoY_Mi1cP"
      },
      "outputs": [],
      "source": [
        "plt.figure(figsize=(15,8))\n",
        "sns.scatterplot(x='longitude', y='latitude', data = df, hue='price', palette='coolwarm')"
      ]
    },
    {
      "cell_type": "code",
      "execution_count": null,
      "metadata": {
        "id": "rfUqvjMwluMl"
      },
      "outputs": [],
      "source": [
        "df['region'].unique()"
      ]
    },
    {
      "cell_type": "code",
      "execution_count": null,
      "metadata": {
        "id": "grqSc8ttmR4m"
      },
      "outputs": [],
      "source": [
        "df = pd.get_dummies(df, columns=['region'])"
      ]
    },
    {
      "cell_type": "code",
      "source": [
        "df.head()"
      ],
      "metadata": {
        "id": "Crn9bY-Ad4S6"
      },
      "execution_count": null,
      "outputs": []
    },
    {
      "cell_type": "code",
      "execution_count": null,
      "metadata": {
        "id": "9R9AZzHTmyoV"
      },
      "outputs": [],
      "source": [
        "# Вычисление корреляционной матрицы\n",
        "\n",
        "correlation_matrix = df.corr()\n",
        "\n",
        "plt.figure(figsize=(10, 8))\n",
        "sns.heatmap(correlation_matrix, cmap='viridis', vmin=-1, vmax=1, center=0, annot=True, fmt=\".2f\")\n",
        "plt.show()"
      ]
    },
    {
      "cell_type": "code",
      "execution_count": null,
      "metadata": {
        "id": "EfMmx049sF4D"
      },
      "outputs": [],
      "source": [
        "df = df.drop(['district'], axis=1)"
      ]
    },
    {
      "cell_type": "markdown",
      "metadata": {
        "id": "pgu_dwAi7j5u"
      },
      "source": [
        "## Обучение модели"
      ]
    },
    {
      "cell_type": "code",
      "execution_count": null,
      "metadata": {
        "id": "_VdBnfdzrgtD"
      },
      "outputs": [],
      "source": [
        "# Разделение данных на признаки и целевую переменную\n",
        "X = df.drop('price', axis=1)\n",
        "y = df['price']"
      ]
    },
    {
      "cell_type": "code",
      "execution_count": null,
      "metadata": {
        "id": "kVR5FoP8rpau"
      },
      "outputs": [],
      "source": [
        "# Разделение на тренировочную и тестовую выборку\n",
        "X_train, X_test, y_train, y_test = train_test_split(X, y, test_size=0.2, random_state=42)"
      ]
    },
    {
      "cell_type": "code",
      "execution_count": null,
      "metadata": {
        "id": "qbicnTlortDW"
      },
      "outputs": [],
      "source": [
        "# Инициализация и обучение модели\n",
        "model = LinearRegression()\n",
        "model.fit(X_train, y_train)"
      ]
    },
    {
      "cell_type": "code",
      "execution_count": null,
      "metadata": {
        "id": "qk85PEhvsTHE"
      },
      "outputs": [],
      "source": [
        "# Предсказание на тестовой выборке\n",
        "predictions = model.predict(X_test)"
      ]
    },
    {
      "cell_type": "code",
      "execution_count": null,
      "metadata": {
        "id": "yk-7oKqPsbK_"
      },
      "outputs": [],
      "source": [
        "# Оценка качества модели\n",
        "r2 = r2_score(y_test, predictions)\n",
        "print(\"Коэффициент детерминации (R^2):\", r2)"
      ]
    },
    {
      "cell_type": "code",
      "execution_count": null,
      "metadata": {
        "id": "XgeSdIrFtdjE"
      },
      "outputs": [],
      "source": [
        "# Обучение модели Random Forest\n",
        "rf = RandomForestRegressor()\n",
        "rf.fit(X_train, y_train)"
      ]
    },
    {
      "cell_type": "code",
      "execution_count": null,
      "metadata": {
        "id": "GENqE2bBtfCb"
      },
      "outputs": [],
      "source": [
        "# Предсказание на тестовых данных\n",
        "y_pred_rf = rf.predict(X_test)"
      ]
    },
    {
      "cell_type": "code",
      "execution_count": null,
      "metadata": {
        "id": "D0Zz8wm0tkE4"
      },
      "outputs": [],
      "source": [
        "# Оценка качества модели Random Forest\n",
        "r2_rf = r2_score(y_test, y_pred_rf)\n",
        "print(\"Коэффициент детерминации Random Forest (R^2):\", r2_rf)"
      ]
    },
    {
      "cell_type": "code",
      "execution_count": null,
      "metadata": {
        "id": "HQO4Stv7HR7w"
      },
      "outputs": [],
      "source": [
        "import xgboost as xgb\n",
        "\n",
        "# Инициализация и обучение модели градиентного бустинга\n",
        "xgb_model = xgb.XGBRegressor()\n",
        "xgb_model.fit(X_train, y_train)\n",
        "\n",
        "# Предсказание на тестовой выборке\n",
        "predictions_xgb = xgb_model.predict(X_test)\n",
        "\n",
        "# Оценка качества модели градиентного бустинга\n",
        "r2_xgb = r2_score(y_test, predictions_xgb)\n",
        "print(\"Коэффициент детерминации градиентного бустинга (R^2):\", r2_xgb)"
      ]
    },
    {
      "cell_type": "code",
      "execution_count": null,
      "metadata": {
        "id": "bRYAzb0BbkCo"
      },
      "outputs": [],
      "source": [
        "# Улучшение гиперпараметров модели градиентного бустинга\n",
        "xgb_model_tuned = xgb.XGBRegressor(n_estimators=1000, max_depth=5, learning_rate=0.1, colsample_bytree=0.5)\n",
        "xgb_model_tuned.fit(X_train, y_train)\n",
        "\n",
        "# Предсказание на тестовой выборке с улучшенными гиперпараметрами\n",
        "predictions_xgb_tuned = xgb_model_tuned.predict(X_test)\n",
        "\n",
        "# Оценка качества модели градиентного бустинга с улучшенными гиперпараметрами\n",
        "r2_xgb_tuned = r2_score(y_test, predictions_xgb_tuned)\n",
        "print(\"Коэффициент детерминации градиентного бустинга с улучшенными гиперпараметрами (R^2):\", r2_xgb_tuned)"
      ]
    },
    {
      "cell_type": "code",
      "execution_count": null,
      "metadata": {
        "id": "oud_sdfWISL0"
      },
      "outputs": [],
      "source": [
        "from sklearn.neighbors import KNeighborsRegressor\n",
        "\n",
        "# Инициализация и обучение модели KNeighborsRegressor\n",
        "knn = KNeighborsRegressor()\n",
        "knn.fit(X_train, y_train)\n",
        "\n",
        "# Предсказание на тестовой выборке\n",
        "predictions_knn = knn.predict(X_test)\n",
        "\n",
        "# Оценка качества модели KNeighborsRegressor\n",
        "r2_knn = r2_score(y_test, predictions_knn)\n",
        "print(\"Коэффициент детерминации KNeighborsRegressor (R^2):\", r2_knn)"
      ]
    },
    {
      "cell_type": "code",
      "execution_count": null,
      "metadata": {
        "id": "8zdDdyx5Jba-"
      },
      "outputs": [],
      "source": [
        "from sklearn.tree import DecisionTreeRegressor\n",
        "\n",
        "# Инициализация и обучение модели деревьев принятия решений\n",
        "dt = DecisionTreeRegressor()\n",
        "dt.fit(X_train, y_train)\n",
        "\n",
        "# Предсказание на тестовой выборке\n",
        "y_pred_dt = dt.predict(X_test)\n",
        "\n",
        "# Оценка качества модели деревьев принятия решений\n",
        "r2_dt = r2_score(y_test, y_pred_dt)\n",
        "print(\"Коэффициент детерминации деревьев принятия решений (R^2):\", r2_dt)"
      ]
    },
    {
      "cell_type": "code",
      "execution_count": null,
      "metadata": {
        "id": "pntAwuI8vYVt"
      },
      "outputs": [],
      "source": [
        "import matplotlib.pyplot as plt\n",
        "\n",
        "# Названия моделей\n",
        "models = ['Градиентный бустинг\\nс улучшенными параметрами', 'Градиентный бустинг', 'Random Forest', 'Дерево принятия решений', 'KNeighborsRegressor', 'Линейная регрессия']\n",
        "\n",
        "# Коэффициенты детерминации\n",
        "r2_scores = [r2_xgb_tuned, r2_xgb, r2_rf, r2_dt, r2_knn, r2]\n",
        "\n",
        "colors = ['skyblue', 'lightcoral', 'lightgreen', 'lightsalmon', 'lightblue', 'pink']\n",
        "\n",
        "plt.figure(figsize=(10, 6))\n",
        "plt.bar(models, r2_scores, color=colors)\n",
        "plt.xlabel('Модели')\n",
        "plt.ylabel('Коэффициент детерминации (R^2)')\n",
        "plt.title('Сравнение качества различных моделей')\n",
        "plt.ylim(0.7, 0.95) # установите нужный диапазон для y-оси\n",
        "plt.xticks(rotation=45)\n",
        "plt.show()"
      ]
    },
    {
      "cell_type": "code",
      "execution_count": null,
      "metadata": {
        "id": "cd_APR1LuigV"
      },
      "outputs": [],
      "source": [
        "dump(rf, 'model_rf.joblib')"
      ]
    },
    {
      "cell_type": "markdown",
      "metadata": {
        "id": "mO9JXQOE7-DA"
      },
      "source": [
        "## Веб-интерфейс"
      ]
    },
    {
      "cell_type": "code",
      "execution_count": null,
      "metadata": {
        "id": "v5ByCF6fvHGW"
      },
      "outputs": [],
      "source": [
        "# Запускает приложение streamlit (файл приложения app.py)\n",
        "\n",
        "!streamlit run app.py & npx localtunnel --port 8501"
      ]
    },
    {
      "cell_type": "code",
      "execution_count": null,
      "metadata": {
        "id": "1-h0ENTqvBny"
      },
      "outputs": [],
      "source": [
        "# Запускаем утилиту wget для получения внешнего IP-адреса от сервиса ipv4.icanhazip.com\n",
        "\n",
        "!wget -q -O - ipv4.icanhazip.com"
      ]
    }
  ],
  "metadata": {
    "colab": {
      "provenance": []
    },
    "kernelspec": {
      "display_name": "Python 3",
      "name": "python3"
    },
    "language_info": {
      "name": "python"
    }
  },
  "nbformat": 4,
  "nbformat_minor": 0
}